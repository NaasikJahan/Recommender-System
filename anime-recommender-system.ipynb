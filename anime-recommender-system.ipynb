{
 "cells": [
  {
   "cell_type": "code",
   "execution_count": 1,
   "id": "a69bb176",
   "metadata": {
    "_cell_guid": "b1076dfc-b9ad-4769-8c92-a6c4dae69d19",
    "_uuid": "8f2839f25d086af736a60e9eeb907d3b93b6e0e5",
    "execution": {
     "iopub.execute_input": "2022-09-16T03:10:52.547758Z",
     "iopub.status.busy": "2022-09-16T03:10:52.546679Z",
     "iopub.status.idle": "2022-09-16T03:10:53.776212Z",
     "shell.execute_reply": "2022-09-16T03:10:53.774773Z"
    },
    "papermill": {
     "duration": 1.24155,
     "end_time": "2022-09-16T03:10:53.779996",
     "exception": false,
     "start_time": "2022-09-16T03:10:52.538446",
     "status": "completed"
    },
    "tags": []
   },
   "outputs": [
    {
     "name": "stdout",
     "output_type": "stream",
     "text": [
      "/kaggle/input/anime-recommendations-database/rating.csv\n",
      "/kaggle/input/anime-recommendations-database/anime.csv\n"
     ]
    }
   ],
   "source": [
    "# This Python 3 environment comes with many helpful analytics libraries installed\n",
    "# It is defined by the kaggle/python Docker image: https://github.com/kaggle/docker-python\n",
    "# For example, here's several helpful packages to load\n",
    "\n",
    "import numpy as np \n",
    "import pandas as pd \n",
    "import seaborn as sns\n",
    "import matplotlib.pyplot as plt\n",
    "\n",
    "# Input data files are available in the read-only \"../input/\" directory\n",
    "# For example, running this (by clicking run or pressing Shift+Enter) will list all files under the input directory\n",
    "\n",
    "import os\n",
    "for dirname, _, filenames in os.walk('/kaggle/input'):\n",
    "    for filename in filenames:\n",
    "        print(os.path.join(dirname, filename))\n",
    "\n",
    "# You can write up to 20GB to the current directory (/kaggle/working/) that gets preserved as output when you create a version using \"Save & Run All\" \n",
    "# You can also write temporary files to /kaggle/temp/, but they won't be saved outside of the current session"
   ]
  },
  {
   "cell_type": "code",
   "execution_count": 2,
   "id": "12277969",
   "metadata": {
    "execution": {
     "iopub.execute_input": "2022-09-16T03:10:53.792791Z",
     "iopub.status.busy": "2022-09-16T03:10:53.792352Z",
     "iopub.status.idle": "2022-09-16T03:10:56.394749Z",
     "shell.execute_reply": "2022-09-16T03:10:56.393081Z"
    },
    "papermill": {
     "duration": 2.612115,
     "end_time": "2022-09-16T03:10:56.397901",
     "exception": false,
     "start_time": "2022-09-16T03:10:53.785786",
     "status": "completed"
    },
    "tags": []
   },
   "outputs": [
    {
     "data": {
      "text/html": [
       "<div>\n",
       "<style scoped>\n",
       "    .dataframe tbody tr th:only-of-type {\n",
       "        vertical-align: middle;\n",
       "    }\n",
       "\n",
       "    .dataframe tbody tr th {\n",
       "        vertical-align: top;\n",
       "    }\n",
       "\n",
       "    .dataframe thead th {\n",
       "        text-align: right;\n",
       "    }\n",
       "</style>\n",
       "<table border=\"1\" class=\"dataframe\">\n",
       "  <thead>\n",
       "    <tr style=\"text-align: right;\">\n",
       "      <th></th>\n",
       "      <th>user_id</th>\n",
       "      <th>anime_id</th>\n",
       "      <th>rating</th>\n",
       "    </tr>\n",
       "  </thead>\n",
       "  <tbody>\n",
       "    <tr>\n",
       "      <th>0</th>\n",
       "      <td>1</td>\n",
       "      <td>20</td>\n",
       "      <td>-1</td>\n",
       "    </tr>\n",
       "    <tr>\n",
       "      <th>1</th>\n",
       "      <td>1</td>\n",
       "      <td>24</td>\n",
       "      <td>-1</td>\n",
       "    </tr>\n",
       "    <tr>\n",
       "      <th>2</th>\n",
       "      <td>1</td>\n",
       "      <td>79</td>\n",
       "      <td>-1</td>\n",
       "    </tr>\n",
       "    <tr>\n",
       "      <th>3</th>\n",
       "      <td>1</td>\n",
       "      <td>226</td>\n",
       "      <td>-1</td>\n",
       "    </tr>\n",
       "    <tr>\n",
       "      <th>4</th>\n",
       "      <td>1</td>\n",
       "      <td>241</td>\n",
       "      <td>-1</td>\n",
       "    </tr>\n",
       "  </tbody>\n",
       "</table>\n",
       "</div>"
      ],
      "text/plain": [
       "   user_id  anime_id  rating\n",
       "0        1        20      -1\n",
       "1        1        24      -1\n",
       "2        1        79      -1\n",
       "3        1       226      -1\n",
       "4        1       241      -1"
      ]
     },
     "execution_count": 2,
     "metadata": {},
     "output_type": "execute_result"
    }
   ],
   "source": [
    "ratings = pd.read_csv(\"/kaggle/input/anime-recommendations-database/rating.csv\")\n",
    "anime = pd.read_csv(\"/kaggle/input/anime-recommendations-database/anime.csv\")\n",
    "ratings.head()"
   ]
  },
  {
   "cell_type": "code",
   "execution_count": 3,
   "id": "c26c3310",
   "metadata": {
    "execution": {
     "iopub.execute_input": "2022-09-16T03:10:56.412205Z",
     "iopub.status.busy": "2022-09-16T03:10:56.410960Z",
     "iopub.status.idle": "2022-09-16T03:10:56.429563Z",
     "shell.execute_reply": "2022-09-16T03:10:56.427818Z"
    },
    "papermill": {
     "duration": 0.028705,
     "end_time": "2022-09-16T03:10:56.432377",
     "exception": false,
     "start_time": "2022-09-16T03:10:56.403672",
     "status": "completed"
    },
    "tags": []
   },
   "outputs": [
    {
     "data": {
      "text/html": [
       "<div>\n",
       "<style scoped>\n",
       "    .dataframe tbody tr th:only-of-type {\n",
       "        vertical-align: middle;\n",
       "    }\n",
       "\n",
       "    .dataframe tbody tr th {\n",
       "        vertical-align: top;\n",
       "    }\n",
       "\n",
       "    .dataframe thead th {\n",
       "        text-align: right;\n",
       "    }\n",
       "</style>\n",
       "<table border=\"1\" class=\"dataframe\">\n",
       "  <thead>\n",
       "    <tr style=\"text-align: right;\">\n",
       "      <th></th>\n",
       "      <th>anime_id</th>\n",
       "      <th>name</th>\n",
       "      <th>genre</th>\n",
       "      <th>type</th>\n",
       "      <th>episodes</th>\n",
       "      <th>rating</th>\n",
       "      <th>members</th>\n",
       "    </tr>\n",
       "  </thead>\n",
       "  <tbody>\n",
       "    <tr>\n",
       "      <th>0</th>\n",
       "      <td>32281</td>\n",
       "      <td>Kimi no Na wa.</td>\n",
       "      <td>Drama, Romance, School, Supernatural</td>\n",
       "      <td>Movie</td>\n",
       "      <td>1</td>\n",
       "      <td>9.37</td>\n",
       "      <td>200630</td>\n",
       "    </tr>\n",
       "    <tr>\n",
       "      <th>1</th>\n",
       "      <td>5114</td>\n",
       "      <td>Fullmetal Alchemist: Brotherhood</td>\n",
       "      <td>Action, Adventure, Drama, Fantasy, Magic, Mili...</td>\n",
       "      <td>TV</td>\n",
       "      <td>64</td>\n",
       "      <td>9.26</td>\n",
       "      <td>793665</td>\n",
       "    </tr>\n",
       "    <tr>\n",
       "      <th>2</th>\n",
       "      <td>28977</td>\n",
       "      <td>Gintama°</td>\n",
       "      <td>Action, Comedy, Historical, Parody, Samurai, S...</td>\n",
       "      <td>TV</td>\n",
       "      <td>51</td>\n",
       "      <td>9.25</td>\n",
       "      <td>114262</td>\n",
       "    </tr>\n",
       "    <tr>\n",
       "      <th>3</th>\n",
       "      <td>9253</td>\n",
       "      <td>Steins;Gate</td>\n",
       "      <td>Sci-Fi, Thriller</td>\n",
       "      <td>TV</td>\n",
       "      <td>24</td>\n",
       "      <td>9.17</td>\n",
       "      <td>673572</td>\n",
       "    </tr>\n",
       "    <tr>\n",
       "      <th>4</th>\n",
       "      <td>9969</td>\n",
       "      <td>Gintama&amp;#039;</td>\n",
       "      <td>Action, Comedy, Historical, Parody, Samurai, S...</td>\n",
       "      <td>TV</td>\n",
       "      <td>51</td>\n",
       "      <td>9.16</td>\n",
       "      <td>151266</td>\n",
       "    </tr>\n",
       "  </tbody>\n",
       "</table>\n",
       "</div>"
      ],
      "text/plain": [
       "   anime_id                              name  \\\n",
       "0     32281                    Kimi no Na wa.   \n",
       "1      5114  Fullmetal Alchemist: Brotherhood   \n",
       "2     28977                          Gintama°   \n",
       "3      9253                       Steins;Gate   \n",
       "4      9969                     Gintama&#039;   \n",
       "\n",
       "                                               genre   type episodes  rating  \\\n",
       "0               Drama, Romance, School, Supernatural  Movie        1    9.37   \n",
       "1  Action, Adventure, Drama, Fantasy, Magic, Mili...     TV       64    9.26   \n",
       "2  Action, Comedy, Historical, Parody, Samurai, S...     TV       51    9.25   \n",
       "3                                   Sci-Fi, Thriller     TV       24    9.17   \n",
       "4  Action, Comedy, Historical, Parody, Samurai, S...     TV       51    9.16   \n",
       "\n",
       "   members  \n",
       "0   200630  \n",
       "1   793665  \n",
       "2   114262  \n",
       "3   673572  \n",
       "4   151266  "
      ]
     },
     "execution_count": 3,
     "metadata": {},
     "output_type": "execute_result"
    }
   ],
   "source": [
    "anime.head()"
   ]
  },
  {
   "cell_type": "code",
   "execution_count": 4,
   "id": "dba2482f",
   "metadata": {
    "execution": {
     "iopub.execute_input": "2022-09-16T03:10:56.445297Z",
     "iopub.status.busy": "2022-09-16T03:10:56.444799Z",
     "iopub.status.idle": "2022-09-16T03:10:56.453572Z",
     "shell.execute_reply": "2022-09-16T03:10:56.452223Z"
    },
    "papermill": {
     "duration": 0.017984,
     "end_time": "2022-09-16T03:10:56.455986",
     "exception": false,
     "start_time": "2022-09-16T03:10:56.438002",
     "status": "completed"
    },
    "tags": []
   },
   "outputs": [
    {
     "data": {
      "text/plain": [
       "(7813737, 3)"
      ]
     },
     "execution_count": 4,
     "metadata": {},
     "output_type": "execute_result"
    }
   ],
   "source": [
    "ratings.shape"
   ]
  },
  {
   "cell_type": "code",
   "execution_count": 5,
   "id": "c0c48e78",
   "metadata": {
    "execution": {
     "iopub.execute_input": "2022-09-16T03:10:56.469762Z",
     "iopub.status.busy": "2022-09-16T03:10:56.469342Z",
     "iopub.status.idle": "2022-09-16T03:10:56.477083Z",
     "shell.execute_reply": "2022-09-16T03:10:56.475686Z"
    },
    "papermill": {
     "duration": 0.017597,
     "end_time": "2022-09-16T03:10:56.479919",
     "exception": false,
     "start_time": "2022-09-16T03:10:56.462322",
     "status": "completed"
    },
    "tags": []
   },
   "outputs": [
    {
     "data": {
      "text/plain": [
       "(12294, 7)"
      ]
     },
     "execution_count": 5,
     "metadata": {},
     "output_type": "execute_result"
    }
   ],
   "source": [
    "anime.shape"
   ]
  },
  {
   "cell_type": "code",
   "execution_count": 6,
   "id": "5a3d2f2f",
   "metadata": {
    "execution": {
     "iopub.execute_input": "2022-09-16T03:10:56.493801Z",
     "iopub.status.busy": "2022-09-16T03:10:56.493391Z",
     "iopub.status.idle": "2022-09-16T03:10:57.299041Z",
     "shell.execute_reply": "2022-09-16T03:10:57.297902Z"
    },
    "papermill": {
     "duration": 0.815824,
     "end_time": "2022-09-16T03:10:57.301757",
     "exception": false,
     "start_time": "2022-09-16T03:10:56.485933",
     "status": "completed"
    },
    "tags": []
   },
   "outputs": [
    {
     "data": {
      "text/html": [
       "<div>\n",
       "<style scoped>\n",
       "    .dataframe tbody tr th:only-of-type {\n",
       "        vertical-align: middle;\n",
       "    }\n",
       "\n",
       "    .dataframe tbody tr th {\n",
       "        vertical-align: top;\n",
       "    }\n",
       "\n",
       "    .dataframe thead th {\n",
       "        text-align: right;\n",
       "    }\n",
       "</style>\n",
       "<table border=\"1\" class=\"dataframe\">\n",
       "  <thead>\n",
       "    <tr style=\"text-align: right;\">\n",
       "      <th></th>\n",
       "      <th>user_id</th>\n",
       "      <th>anime_id</th>\n",
       "      <th>rating</th>\n",
       "    </tr>\n",
       "  </thead>\n",
       "  <tbody>\n",
       "    <tr>\n",
       "      <th>count</th>\n",
       "      <td>7.813737e+06</td>\n",
       "      <td>7.813737e+06</td>\n",
       "      <td>7.813737e+06</td>\n",
       "    </tr>\n",
       "    <tr>\n",
       "      <th>mean</th>\n",
       "      <td>3.672796e+04</td>\n",
       "      <td>8.909072e+03</td>\n",
       "      <td>6.144030e+00</td>\n",
       "    </tr>\n",
       "    <tr>\n",
       "      <th>std</th>\n",
       "      <td>2.099795e+04</td>\n",
       "      <td>8.883950e+03</td>\n",
       "      <td>3.727800e+00</td>\n",
       "    </tr>\n",
       "    <tr>\n",
       "      <th>min</th>\n",
       "      <td>1.000000e+00</td>\n",
       "      <td>1.000000e+00</td>\n",
       "      <td>-1.000000e+00</td>\n",
       "    </tr>\n",
       "    <tr>\n",
       "      <th>25%</th>\n",
       "      <td>1.897400e+04</td>\n",
       "      <td>1.240000e+03</td>\n",
       "      <td>6.000000e+00</td>\n",
       "    </tr>\n",
       "    <tr>\n",
       "      <th>50%</th>\n",
       "      <td>3.679100e+04</td>\n",
       "      <td>6.213000e+03</td>\n",
       "      <td>7.000000e+00</td>\n",
       "    </tr>\n",
       "    <tr>\n",
       "      <th>75%</th>\n",
       "      <td>5.475700e+04</td>\n",
       "      <td>1.409300e+04</td>\n",
       "      <td>9.000000e+00</td>\n",
       "    </tr>\n",
       "    <tr>\n",
       "      <th>max</th>\n",
       "      <td>7.351600e+04</td>\n",
       "      <td>3.451900e+04</td>\n",
       "      <td>1.000000e+01</td>\n",
       "    </tr>\n",
       "  </tbody>\n",
       "</table>\n",
       "</div>"
      ],
      "text/plain": [
       "            user_id      anime_id        rating\n",
       "count  7.813737e+06  7.813737e+06  7.813737e+06\n",
       "mean   3.672796e+04  8.909072e+03  6.144030e+00\n",
       "std    2.099795e+04  8.883950e+03  3.727800e+00\n",
       "min    1.000000e+00  1.000000e+00 -1.000000e+00\n",
       "25%    1.897400e+04  1.240000e+03  6.000000e+00\n",
       "50%    3.679100e+04  6.213000e+03  7.000000e+00\n",
       "75%    5.475700e+04  1.409300e+04  9.000000e+00\n",
       "max    7.351600e+04  3.451900e+04  1.000000e+01"
      ]
     },
     "execution_count": 6,
     "metadata": {},
     "output_type": "execute_result"
    }
   ],
   "source": [
    "ratings.describe()"
   ]
  },
  {
   "cell_type": "code",
   "execution_count": 7,
   "id": "d495864c",
   "metadata": {
    "execution": {
     "iopub.execute_input": "2022-09-16T03:10:57.315978Z",
     "iopub.status.busy": "2022-09-16T03:10:57.314898Z",
     "iopub.status.idle": "2022-09-16T03:10:57.340085Z",
     "shell.execute_reply": "2022-09-16T03:10:57.338586Z"
    },
    "papermill": {
     "duration": 0.03518,
     "end_time": "2022-09-16T03:10:57.343139",
     "exception": false,
     "start_time": "2022-09-16T03:10:57.307959",
     "status": "completed"
    },
    "tags": []
   },
   "outputs": [
    {
     "data": {
      "text/html": [
       "<div>\n",
       "<style scoped>\n",
       "    .dataframe tbody tr th:only-of-type {\n",
       "        vertical-align: middle;\n",
       "    }\n",
       "\n",
       "    .dataframe tbody tr th {\n",
       "        vertical-align: top;\n",
       "    }\n",
       "\n",
       "    .dataframe thead th {\n",
       "        text-align: right;\n",
       "    }\n",
       "</style>\n",
       "<table border=\"1\" class=\"dataframe\">\n",
       "  <thead>\n",
       "    <tr style=\"text-align: right;\">\n",
       "      <th></th>\n",
       "      <th>anime_id</th>\n",
       "      <th>rating</th>\n",
       "      <th>members</th>\n",
       "    </tr>\n",
       "  </thead>\n",
       "  <tbody>\n",
       "    <tr>\n",
       "      <th>count</th>\n",
       "      <td>12294.000000</td>\n",
       "      <td>12064.000000</td>\n",
       "      <td>1.229400e+04</td>\n",
       "    </tr>\n",
       "    <tr>\n",
       "      <th>mean</th>\n",
       "      <td>14058.221653</td>\n",
       "      <td>6.473902</td>\n",
       "      <td>1.807134e+04</td>\n",
       "    </tr>\n",
       "    <tr>\n",
       "      <th>std</th>\n",
       "      <td>11455.294701</td>\n",
       "      <td>1.026746</td>\n",
       "      <td>5.482068e+04</td>\n",
       "    </tr>\n",
       "    <tr>\n",
       "      <th>min</th>\n",
       "      <td>1.000000</td>\n",
       "      <td>1.670000</td>\n",
       "      <td>5.000000e+00</td>\n",
       "    </tr>\n",
       "    <tr>\n",
       "      <th>25%</th>\n",
       "      <td>3484.250000</td>\n",
       "      <td>5.880000</td>\n",
       "      <td>2.250000e+02</td>\n",
       "    </tr>\n",
       "    <tr>\n",
       "      <th>50%</th>\n",
       "      <td>10260.500000</td>\n",
       "      <td>6.570000</td>\n",
       "      <td>1.550000e+03</td>\n",
       "    </tr>\n",
       "    <tr>\n",
       "      <th>75%</th>\n",
       "      <td>24794.500000</td>\n",
       "      <td>7.180000</td>\n",
       "      <td>9.437000e+03</td>\n",
       "    </tr>\n",
       "    <tr>\n",
       "      <th>max</th>\n",
       "      <td>34527.000000</td>\n",
       "      <td>10.000000</td>\n",
       "      <td>1.013917e+06</td>\n",
       "    </tr>\n",
       "  </tbody>\n",
       "</table>\n",
       "</div>"
      ],
      "text/plain": [
       "           anime_id        rating       members\n",
       "count  12294.000000  12064.000000  1.229400e+04\n",
       "mean   14058.221653      6.473902  1.807134e+04\n",
       "std    11455.294701      1.026746  5.482068e+04\n",
       "min        1.000000      1.670000  5.000000e+00\n",
       "25%     3484.250000      5.880000  2.250000e+02\n",
       "50%    10260.500000      6.570000  1.550000e+03\n",
       "75%    24794.500000      7.180000  9.437000e+03\n",
       "max    34527.000000     10.000000  1.013917e+06"
      ]
     },
     "execution_count": 7,
     "metadata": {},
     "output_type": "execute_result"
    }
   ],
   "source": [
    "anime.describe()"
   ]
  },
  {
   "cell_type": "code",
   "execution_count": 8,
   "id": "e3e2b593",
   "metadata": {
    "execution": {
     "iopub.execute_input": "2022-09-16T03:10:57.357314Z",
     "iopub.status.busy": "2022-09-16T03:10:57.356826Z",
     "iopub.status.idle": "2022-09-16T03:10:57.438880Z",
     "shell.execute_reply": "2022-09-16T03:10:57.437609Z"
    },
    "papermill": {
     "duration": 0.092445,
     "end_time": "2022-09-16T03:10:57.441824",
     "exception": false,
     "start_time": "2022-09-16T03:10:57.349379",
     "status": "completed"
    },
    "tags": []
   },
   "outputs": [
    {
     "data": {
      "text/plain": [
       " 8     1646019\n",
       "-1     1476496\n",
       " 7     1375287\n",
       " 9     1254096\n",
       " 10     955715\n",
       " 6      637775\n",
       " 5      282806\n",
       " 4      104291\n",
       " 3       41453\n",
       " 2       23150\n",
       " 1       16649\n",
       "Name: rating, dtype: int64"
      ]
     },
     "execution_count": 8,
     "metadata": {},
     "output_type": "execute_result"
    }
   ],
   "source": [
    "ratings.rating.value_counts()"
   ]
  },
  {
   "cell_type": "code",
   "execution_count": 9,
   "id": "2c6a809d",
   "metadata": {
    "execution": {
     "iopub.execute_input": "2022-09-16T03:10:57.456692Z",
     "iopub.status.busy": "2022-09-16T03:10:57.455785Z",
     "iopub.status.idle": "2022-09-16T03:10:57.689513Z",
     "shell.execute_reply": "2022-09-16T03:10:57.688248Z"
    },
    "papermill": {
     "duration": 0.243721,
     "end_time": "2022-09-16T03:10:57.692233",
     "exception": false,
     "start_time": "2022-09-16T03:10:57.448512",
     "status": "completed"
    },
    "tags": []
   },
   "outputs": [
    {
     "data": {
      "text/html": [
       "<div>\n",
       "<style scoped>\n",
       "    .dataframe tbody tr th:only-of-type {\n",
       "        vertical-align: middle;\n",
       "    }\n",
       "\n",
       "    .dataframe tbody tr th {\n",
       "        vertical-align: top;\n",
       "    }\n",
       "\n",
       "    .dataframe thead th {\n",
       "        text-align: right;\n",
       "    }\n",
       "</style>\n",
       "<table border=\"1\" class=\"dataframe\">\n",
       "  <thead>\n",
       "    <tr style=\"text-align: right;\">\n",
       "      <th></th>\n",
       "      <th>user_id</th>\n",
       "      <th>anime_id</th>\n",
       "      <th>rating</th>\n",
       "    </tr>\n",
       "  </thead>\n",
       "  <tbody>\n",
       "    <tr>\n",
       "      <th>47</th>\n",
       "      <td>1</td>\n",
       "      <td>8074</td>\n",
       "      <td>10</td>\n",
       "    </tr>\n",
       "    <tr>\n",
       "      <th>81</th>\n",
       "      <td>1</td>\n",
       "      <td>11617</td>\n",
       "      <td>10</td>\n",
       "    </tr>\n",
       "    <tr>\n",
       "      <th>83</th>\n",
       "      <td>1</td>\n",
       "      <td>11757</td>\n",
       "      <td>10</td>\n",
       "    </tr>\n",
       "    <tr>\n",
       "      <th>101</th>\n",
       "      <td>1</td>\n",
       "      <td>15451</td>\n",
       "      <td>10</td>\n",
       "    </tr>\n",
       "    <tr>\n",
       "      <th>153</th>\n",
       "      <td>2</td>\n",
       "      <td>11771</td>\n",
       "      <td>10</td>\n",
       "    </tr>\n",
       "  </tbody>\n",
       "</table>\n",
       "</div>"
      ],
      "text/plain": [
       "     user_id  anime_id  rating\n",
       "47         1      8074      10\n",
       "81         1     11617      10\n",
       "83         1     11757      10\n",
       "101        1     15451      10\n",
       "153        2     11771      10"
      ]
     },
     "execution_count": 9,
     "metadata": {},
     "output_type": "execute_result"
    }
   ],
   "source": [
    "ratings = ratings[ratings['rating'] != -1]\n",
    "ratings.head()"
   ]
  },
  {
   "cell_type": "code",
   "execution_count": 10,
   "id": "eb13df12",
   "metadata": {
    "execution": {
     "iopub.execute_input": "2022-09-16T03:10:57.707596Z",
     "iopub.status.busy": "2022-09-16T03:10:57.706497Z",
     "iopub.status.idle": "2022-09-16T03:10:58.927342Z",
     "shell.execute_reply": "2022-09-16T03:10:58.926455Z"
    },
    "papermill": {
     "duration": 1.231128,
     "end_time": "2022-09-16T03:10:58.929640",
     "exception": false,
     "start_time": "2022-09-16T03:10:57.698512",
     "status": "completed"
    },
    "tags": []
   },
   "outputs": [
    {
     "data": {
      "text/html": [
       "<div>\n",
       "<style scoped>\n",
       "    .dataframe tbody tr th:only-of-type {\n",
       "        vertical-align: middle;\n",
       "    }\n",
       "\n",
       "    .dataframe tbody tr th {\n",
       "        vertical-align: top;\n",
       "    }\n",
       "\n",
       "    .dataframe thead th {\n",
       "        text-align: right;\n",
       "    }\n",
       "</style>\n",
       "<table border=\"1\" class=\"dataframe\">\n",
       "  <thead>\n",
       "    <tr style=\"text-align: right;\">\n",
       "      <th></th>\n",
       "      <th>user_id</th>\n",
       "      <th>rating</th>\n",
       "      <th>name</th>\n",
       "      <th>genre</th>\n",
       "    </tr>\n",
       "  </thead>\n",
       "  <tbody>\n",
       "    <tr>\n",
       "      <th>0</th>\n",
       "      <td>1</td>\n",
       "      <td>10</td>\n",
       "      <td>Highschool of the Dead</td>\n",
       "      <td>Action, Ecchi, Horror, Supernatural</td>\n",
       "    </tr>\n",
       "    <tr>\n",
       "      <th>1</th>\n",
       "      <td>3</td>\n",
       "      <td>6</td>\n",
       "      <td>Highschool of the Dead</td>\n",
       "      <td>Action, Ecchi, Horror, Supernatural</td>\n",
       "    </tr>\n",
       "    <tr>\n",
       "      <th>2</th>\n",
       "      <td>5</td>\n",
       "      <td>2</td>\n",
       "      <td>Highschool of the Dead</td>\n",
       "      <td>Action, Ecchi, Horror, Supernatural</td>\n",
       "    </tr>\n",
       "    <tr>\n",
       "      <th>3</th>\n",
       "      <td>12</td>\n",
       "      <td>6</td>\n",
       "      <td>Highschool of the Dead</td>\n",
       "      <td>Action, Ecchi, Horror, Supernatural</td>\n",
       "    </tr>\n",
       "    <tr>\n",
       "      <th>4</th>\n",
       "      <td>14</td>\n",
       "      <td>6</td>\n",
       "      <td>Highschool of the Dead</td>\n",
       "      <td>Action, Ecchi, Horror, Supernatural</td>\n",
       "    </tr>\n",
       "  </tbody>\n",
       "</table>\n",
       "</div>"
      ],
      "text/plain": [
       "   user_id  rating                    name  \\\n",
       "0        1      10  Highschool of the Dead   \n",
       "1        3       6  Highschool of the Dead   \n",
       "2        5       2  Highschool of the Dead   \n",
       "3       12       6  Highschool of the Dead   \n",
       "4       14       6  Highschool of the Dead   \n",
       "\n",
       "                                 genre  \n",
       "0  Action, Ecchi, Horror, Supernatural  \n",
       "1  Action, Ecchi, Horror, Supernatural  \n",
       "2  Action, Ecchi, Horror, Supernatural  \n",
       "3  Action, Ecchi, Horror, Supernatural  \n",
       "4  Action, Ecchi, Horror, Supernatural  "
      ]
     },
     "execution_count": 10,
     "metadata": {},
     "output_type": "execute_result"
    }
   ],
   "source": [
    "df = pd.merge(ratings,anime[[\"anime_id\",\"name\",\"genre\"]], left_on = \"anime_id\", right_on = \"anime_id\").drop(\"anime_id\", axis = 1)\n",
    "df.head()"
   ]
  },
  {
   "cell_type": "code",
   "execution_count": 11,
   "id": "e7fd08a7",
   "metadata": {
    "execution": {
     "iopub.execute_input": "2022-09-16T03:10:58.945429Z",
     "iopub.status.busy": "2022-09-16T03:10:58.944355Z",
     "iopub.status.idle": "2022-09-16T03:11:02.662093Z",
     "shell.execute_reply": "2022-09-16T03:11:02.660818Z"
    },
    "papermill": {
     "duration": 3.72891,
     "end_time": "2022-09-16T03:11:02.665074",
     "exception": false,
     "start_time": "2022-09-16T03:10:58.936164",
     "status": "completed"
    },
    "tags": []
   },
   "outputs": [
    {
     "data": {
      "text/html": [
       "<div>\n",
       "<style scoped>\n",
       "    .dataframe tbody tr th:only-of-type {\n",
       "        vertical-align: middle;\n",
       "    }\n",
       "\n",
       "    .dataframe tbody tr th {\n",
       "        vertical-align: top;\n",
       "    }\n",
       "\n",
       "    .dataframe thead th {\n",
       "        text-align: right;\n",
       "    }\n",
       "</style>\n",
       "<table border=\"1\" class=\"dataframe\">\n",
       "  <thead>\n",
       "    <tr style=\"text-align: right;\">\n",
       "      <th></th>\n",
       "      <th>user_id</th>\n",
       "      <th>rating</th>\n",
       "      <th>name</th>\n",
       "      <th>genre</th>\n",
       "    </tr>\n",
       "  </thead>\n",
       "  <tbody>\n",
       "    <tr>\n",
       "      <th>0</th>\n",
       "      <td>1</td>\n",
       "      <td>10</td>\n",
       "      <td>Highschool of the Dead</td>\n",
       "      <td>Action, Ecchi, Horror, Supernatural</td>\n",
       "    </tr>\n",
       "    <tr>\n",
       "      <th>1</th>\n",
       "      <td>3</td>\n",
       "      <td>6</td>\n",
       "      <td>Highschool of the Dead</td>\n",
       "      <td>Action, Ecchi, Horror, Supernatural</td>\n",
       "    </tr>\n",
       "    <tr>\n",
       "      <th>2</th>\n",
       "      <td>5</td>\n",
       "      <td>2</td>\n",
       "      <td>Highschool of the Dead</td>\n",
       "      <td>Action, Ecchi, Horror, Supernatural</td>\n",
       "    </tr>\n",
       "    <tr>\n",
       "      <th>3</th>\n",
       "      <td>12</td>\n",
       "      <td>6</td>\n",
       "      <td>Highschool of the Dead</td>\n",
       "      <td>Action, Ecchi, Horror, Supernatural</td>\n",
       "    </tr>\n",
       "    <tr>\n",
       "      <th>4</th>\n",
       "      <td>14</td>\n",
       "      <td>6</td>\n",
       "      <td>Highschool of the Dead</td>\n",
       "      <td>Action, Ecchi, Horror, Supernatural</td>\n",
       "    </tr>\n",
       "  </tbody>\n",
       "</table>\n",
       "</div>"
      ],
      "text/plain": [
       "   user_id  rating                    name  \\\n",
       "0        1      10  Highschool of the Dead   \n",
       "1        3       6  Highschool of the Dead   \n",
       "2        5       2  Highschool of the Dead   \n",
       "3       12       6  Highschool of the Dead   \n",
       "4       14       6  Highschool of the Dead   \n",
       "\n",
       "                                 genre  \n",
       "0  Action, Ecchi, Horror, Supernatural  \n",
       "1  Action, Ecchi, Horror, Supernatural  \n",
       "2  Action, Ecchi, Horror, Supernatural  \n",
       "3  Action, Ecchi, Horror, Supernatural  \n",
       "4  Action, Ecchi, Horror, Supernatural  "
      ]
     },
     "execution_count": 11,
     "metadata": {},
     "output_type": "execute_result"
    }
   ],
   "source": [
    "discard = [\"Hentai\"] \n",
    "df = df[~df.genre.str.contains('|'.join(discard), na=False)]\n",
    "df.head()"
   ]
  },
  {
   "cell_type": "code",
   "execution_count": 12,
   "id": "4fbae2f4",
   "metadata": {
    "execution": {
     "iopub.execute_input": "2022-09-16T03:11:02.681117Z",
     "iopub.status.busy": "2022-09-16T03:11:02.679824Z",
     "iopub.status.idle": "2022-09-16T03:11:03.482494Z",
     "shell.execute_reply": "2022-09-16T03:11:03.481213Z"
    },
    "papermill": {
     "duration": 0.813348,
     "end_time": "2022-09-16T03:11:03.485137",
     "exception": false,
     "start_time": "2022-09-16T03:11:02.671789",
     "status": "completed"
    },
    "tags": []
   },
   "outputs": [
    {
     "data": {
      "text/plain": [
       "name\n",
       "Ore no Sora Keiji-hen                                1\n",
       "Orchestra                                            1\n",
       "Osamishi Tani no Wakare Uta                          1\n",
       "Oshare Majo Love and Berry: Shiawase no Mahou        1\n",
       "Dareka no Santa Claus                                1\n",
       "                                                 ...  \n",
       "Angel Beats!                                     23565\n",
       "Code Geass: Hangyaku no Lelouch                  24126\n",
       "Shingeki no Kyojin                               25290\n",
       "Sword Art Online                                 26310\n",
       "Death Note                                       34226\n",
       "Name: rating, Length: 8846, dtype: int64"
      ]
     },
     "execution_count": 12,
     "metadata": {},
     "output_type": "execute_result"
    }
   ],
   "source": [
    "count_rating = df.groupby(\"name\")[\"rating\"].count().sort_values()\n",
    "count_rating"
   ]
  },
  {
   "cell_type": "code",
   "execution_count": 13,
   "id": "5b2688be",
   "metadata": {
    "execution": {
     "iopub.execute_input": "2022-09-16T03:11:03.500554Z",
     "iopub.status.busy": "2022-09-16T03:11:03.500125Z",
     "iopub.status.idle": "2022-09-16T03:11:08.827177Z",
     "shell.execute_reply": "2022-09-16T03:11:08.825577Z"
    },
    "papermill": {
     "duration": 5.338751,
     "end_time": "2022-09-16T03:11:08.830806",
     "exception": false,
     "start_time": "2022-09-16T03:11:03.492055",
     "status": "completed"
    },
    "tags": []
   },
   "outputs": [
    {
     "name": "stdout",
     "output_type": "stream",
     "text": [
      "Before: 8846\n",
      "After: 3985\n"
     ]
    }
   ],
   "source": [
    "y = 100\n",
    "more_than_y_ratings = count_rating[count_rating.apply(lambda x: x >= y)].index\n",
    "df_y = df[df['name'].apply(lambda x: x in more_than_y_ratings)]\n",
    "\n",
    "print('Before:', len(df.name.unique()))\n",
    "print('After:', len(df_y.name.unique()))"
   ]
  },
  {
   "cell_type": "code",
   "execution_count": 14,
   "id": "c4ef6881",
   "metadata": {
    "execution": {
     "iopub.execute_input": "2022-09-16T03:11:08.847634Z",
     "iopub.status.busy": "2022-09-16T03:11:08.847163Z",
     "iopub.status.idle": "2022-09-16T03:11:23.534298Z",
     "shell.execute_reply": "2022-09-16T03:11:23.533008Z"
    },
    "papermill": {
     "duration": 14.698852,
     "end_time": "2022-09-16T03:11:23.537043",
     "exception": false,
     "start_time": "2022-09-16T03:11:08.838191",
     "status": "completed"
    },
    "tags": []
   },
   "outputs": [
    {
     "data": {
      "text/html": [
       "<div>\n",
       "<style scoped>\n",
       "    .dataframe tbody tr th:only-of-type {\n",
       "        vertical-align: middle;\n",
       "    }\n",
       "\n",
       "    .dataframe tbody tr th {\n",
       "        vertical-align: top;\n",
       "    }\n",
       "\n",
       "    .dataframe thead th {\n",
       "        text-align: right;\n",
       "    }\n",
       "</style>\n",
       "<table border=\"1\" class=\"dataframe\">\n",
       "  <thead>\n",
       "    <tr style=\"text-align: right;\">\n",
       "      <th>name</th>\n",
       "      <th>&amp;quot;Bungaku Shoujo&amp;quot; Kyou no Oyatsu: Hatsukoi</th>\n",
       "      <th>&amp;quot;Bungaku Shoujo&amp;quot; Memoire</th>\n",
       "      <th>&amp;quot;Bungaku Shoujo&amp;quot; Movie</th>\n",
       "      <th>.hack//G.U. Returner</th>\n",
       "      <th>.hack//G.U. Trilogy</th>\n",
       "    </tr>\n",
       "    <tr>\n",
       "      <th>user_id</th>\n",
       "      <th></th>\n",
       "      <th></th>\n",
       "      <th></th>\n",
       "      <th></th>\n",
       "      <th></th>\n",
       "    </tr>\n",
       "  </thead>\n",
       "  <tbody>\n",
       "    <tr>\n",
       "      <th>1</th>\n",
       "      <td>NaN</td>\n",
       "      <td>NaN</td>\n",
       "      <td>NaN</td>\n",
       "      <td>NaN</td>\n",
       "      <td>NaN</td>\n",
       "    </tr>\n",
       "    <tr>\n",
       "      <th>2</th>\n",
       "      <td>NaN</td>\n",
       "      <td>NaN</td>\n",
       "      <td>NaN</td>\n",
       "      <td>NaN</td>\n",
       "      <td>NaN</td>\n",
       "    </tr>\n",
       "    <tr>\n",
       "      <th>3</th>\n",
       "      <td>NaN</td>\n",
       "      <td>NaN</td>\n",
       "      <td>NaN</td>\n",
       "      <td>NaN</td>\n",
       "      <td>NaN</td>\n",
       "    </tr>\n",
       "    <tr>\n",
       "      <th>5</th>\n",
       "      <td>NaN</td>\n",
       "      <td>NaN</td>\n",
       "      <td>NaN</td>\n",
       "      <td>NaN</td>\n",
       "      <td>NaN</td>\n",
       "    </tr>\n",
       "    <tr>\n",
       "      <th>7</th>\n",
       "      <td>NaN</td>\n",
       "      <td>NaN</td>\n",
       "      <td>NaN</td>\n",
       "      <td>NaN</td>\n",
       "      <td>NaN</td>\n",
       "    </tr>\n",
       "  </tbody>\n",
       "</table>\n",
       "</div>"
      ],
      "text/plain": [
       "name     &quot;Bungaku Shoujo&quot; Kyou no Oyatsu: Hatsukoi  \\\n",
       "user_id                                                        \n",
       "1                                                      NaN     \n",
       "2                                                      NaN     \n",
       "3                                                      NaN     \n",
       "5                                                      NaN     \n",
       "7                                                      NaN     \n",
       "\n",
       "name     &quot;Bungaku Shoujo&quot; Memoire  &quot;Bungaku Shoujo&quot; Movie  \\\n",
       "user_id                                                                         \n",
       "1                                       NaN                               NaN   \n",
       "2                                       NaN                               NaN   \n",
       "3                                       NaN                               NaN   \n",
       "5                                       NaN                               NaN   \n",
       "7                                       NaN                               NaN   \n",
       "\n",
       "name     .hack//G.U. Returner  .hack//G.U. Trilogy  \n",
       "user_id                                             \n",
       "1                         NaN                  NaN  \n",
       "2                         NaN                  NaN  \n",
       "3                         NaN                  NaN  \n",
       "5                         NaN                  NaN  \n",
       "7                         NaN                  NaN  "
      ]
     },
     "execution_count": 14,
     "metadata": {},
     "output_type": "execute_result"
    }
   ],
   "source": [
    "df_recom = df_y.pivot_table(index='user_id', columns='name', values='rating')\n",
    "df_recom.iloc[:5,:5]"
   ]
  },
  {
   "cell_type": "code",
   "execution_count": 15,
   "id": "5e48d0b2",
   "metadata": {
    "execution": {
     "iopub.execute_input": "2022-09-16T03:11:23.553393Z",
     "iopub.status.busy": "2022-09-16T03:11:23.552935Z",
     "iopub.status.idle": "2022-09-16T03:11:23.559184Z",
     "shell.execute_reply": "2022-09-16T03:11:23.557919Z"
    },
    "papermill": {
     "duration": 0.017086,
     "end_time": "2022-09-16T03:11:23.561463",
     "exception": false,
     "start_time": "2022-09-16T03:11:23.544377",
     "status": "completed"
    },
    "tags": []
   },
   "outputs": [],
   "source": [
    "def find_correlation(df, name):\n",
    "    similar = df.corrwith(df[name])\n",
    "    similar = pd.DataFrame(similar, columns = ['Corr'])\n",
    "    similar = similar.sort_values(by = 'Corr', ascending = False)\n",
    "    \n",
    "    return similar"
   ]
  },
  {
   "cell_type": "code",
   "execution_count": 16,
   "id": "755bc616",
   "metadata": {
    "execution": {
     "iopub.execute_input": "2022-09-16T03:11:23.578532Z",
     "iopub.status.busy": "2022-09-16T03:11:23.577416Z",
     "iopub.status.idle": "2022-09-16T03:11:25.539515Z",
     "shell.execute_reply": "2022-09-16T03:11:25.537960Z"
    },
    "papermill": {
     "duration": 1.973716,
     "end_time": "2022-09-16T03:11:25.542712",
     "exception": false,
     "start_time": "2022-09-16T03:11:23.568996",
     "status": "completed"
    },
    "tags": []
   },
   "outputs": [
    {
     "data": {
      "text/html": [
       "<div>\n",
       "<style scoped>\n",
       "    .dataframe tbody tr th:only-of-type {\n",
       "        vertical-align: middle;\n",
       "    }\n",
       "\n",
       "    .dataframe tbody tr th {\n",
       "        vertical-align: top;\n",
       "    }\n",
       "\n",
       "    .dataframe thead th {\n",
       "        text-align: right;\n",
       "    }\n",
       "</style>\n",
       "<table border=\"1\" class=\"dataframe\">\n",
       "  <thead>\n",
       "    <tr style=\"text-align: right;\">\n",
       "      <th></th>\n",
       "      <th>Corr</th>\n",
       "    </tr>\n",
       "    <tr>\n",
       "      <th>name</th>\n",
       "      <th></th>\n",
       "    </tr>\n",
       "  </thead>\n",
       "  <tbody>\n",
       "    <tr>\n",
       "      <th>Yuu☆Yuu☆Hakusho</th>\n",
       "      <td>1.000000</td>\n",
       "    </tr>\n",
       "    <tr>\n",
       "      <th>Soratobu Yuureisen</th>\n",
       "      <td>0.867182</td>\n",
       "    </tr>\n",
       "    <tr>\n",
       "      <th>Gekitou! Crush Gear Turbo</th>\n",
       "      <td>0.728637</td>\n",
       "    </tr>\n",
       "    <tr>\n",
       "      <th>Mashiro-iro Symphony: Airi ga Anata no Kanojo ni!?</th>\n",
       "      <td>0.726091</td>\n",
       "    </tr>\n",
       "    <tr>\n",
       "      <th>Nils no Fushigi na Tabi</th>\n",
       "      <td>0.720015</td>\n",
       "    </tr>\n",
       "    <tr>\n",
       "      <th>Pretty Rhythm: Aurora Dream</th>\n",
       "      <td>0.706984</td>\n",
       "    </tr>\n",
       "    <tr>\n",
       "      <th>One Off</th>\n",
       "      <td>0.694009</td>\n",
       "    </tr>\n",
       "    <tr>\n",
       "      <th>Salaryman Kintarou</th>\n",
       "      <td>0.673323</td>\n",
       "    </tr>\n",
       "    <tr>\n",
       "      <th>Strike Witches: Operation Victory Arrow</th>\n",
       "      <td>0.671317</td>\n",
       "    </tr>\n",
       "    <tr>\n",
       "      <th>Shoujo-tachi wa Kouya wo Mezasu OVA</th>\n",
       "      <td>0.667739</td>\n",
       "    </tr>\n",
       "    <tr>\n",
       "      <th>Dash! Kappei</th>\n",
       "      <td>0.663698</td>\n",
       "    </tr>\n",
       "    <tr>\n",
       "      <th>Kill Me Baby: Butsuzou Kegatte Nise Halloween</th>\n",
       "      <td>0.657648</td>\n",
       "    </tr>\n",
       "    <tr>\n",
       "      <th>Dokidoki! Precure</th>\n",
       "      <td>0.657177</td>\n",
       "    </tr>\n",
       "    <tr>\n",
       "      <th>Kuusen Madoushi Kouhosei no Kyoukan OVA</th>\n",
       "      <td>0.656035</td>\n",
       "    </tr>\n",
       "    <tr>\n",
       "      <th>Soukyuu no Fafner: Dead Aggressor - Exodus</th>\n",
       "      <td>0.648301</td>\n",
       "    </tr>\n",
       "    <tr>\n",
       "      <th>Metal Fight Beyblade 4D</th>\n",
       "      <td>0.644829</td>\n",
       "    </tr>\n",
       "    <tr>\n",
       "      <th>Cybersix</th>\n",
       "      <td>0.641262</td>\n",
       "    </tr>\n",
       "    <tr>\n",
       "      <th>Metal Fight Beyblade: Baku</th>\n",
       "      <td>0.640302</td>\n",
       "    </tr>\n",
       "    <tr>\n",
       "      <th>Seikimatsu★Darling</th>\n",
       "      <td>0.638341</td>\n",
       "    </tr>\n",
       "    <tr>\n",
       "      <th>Yuu☆Yuu☆Hakusho: Eizou Hakusho II</th>\n",
       "      <td>0.637295</td>\n",
       "    </tr>\n",
       "  </tbody>\n",
       "</table>\n",
       "</div>"
      ],
      "text/plain": [
       "                                                        Corr\n",
       "name                                                        \n",
       "Yuu☆Yuu☆Hakusho                                     1.000000\n",
       "Soratobu Yuureisen                                  0.867182\n",
       "Gekitou! Crush Gear Turbo                           0.728637\n",
       "Mashiro-iro Symphony: Airi ga Anata no Kanojo ni!?  0.726091\n",
       "Nils no Fushigi na Tabi                             0.720015\n",
       "Pretty Rhythm: Aurora Dream                         0.706984\n",
       "One Off                                             0.694009\n",
       "Salaryman Kintarou                                  0.673323\n",
       "Strike Witches: Operation Victory Arrow             0.671317\n",
       "Shoujo-tachi wa Kouya wo Mezasu OVA                 0.667739\n",
       "Dash! Kappei                                        0.663698\n",
       "Kill Me Baby: Butsuzou Kegatte Nise Halloween       0.657648\n",
       "Dokidoki! Precure                                   0.657177\n",
       "Kuusen Madoushi Kouhosei no Kyoukan OVA             0.656035\n",
       "Soukyuu no Fafner: Dead Aggressor - Exodus          0.648301\n",
       "Metal Fight Beyblade 4D                             0.644829\n",
       "Cybersix                                            0.641262\n",
       "Metal Fight Beyblade: Baku                          0.640302\n",
       "Seikimatsu★Darling                                  0.638341\n",
       "Yuu☆Yuu☆Hakusho: Eizou Hakusho II                   0.637295"
      ]
     },
     "execution_count": 16,
     "metadata": {},
     "output_type": "execute_result"
    }
   ],
   "source": [
    "anime ='Yuu☆Yuu☆Hakusho'\n",
    "find_correlation(df_recom, anime).head(20)"
   ]
  }
 ],
 "metadata": {
  "kernelspec": {
   "display_name": "Python 3",
   "language": "python",
   "name": "python3"
  },
  "language_info": {
   "codemirror_mode": {
    "name": "ipython",
    "version": 3
   },
   "file_extension": ".py",
   "mimetype": "text/x-python",
   "name": "python",
   "nbconvert_exporter": "python",
   "pygments_lexer": "ipython3",
   "version": "3.7.12"
  },
  "papermill": {
   "default_parameters": {},
   "duration": 44.101705,
   "end_time": "2022-09-16T03:11:26.986174",
   "environment_variables": {},
   "exception": null,
   "input_path": "__notebook__.ipynb",
   "output_path": "__notebook__.ipynb",
   "parameters": {},
   "start_time": "2022-09-16T03:10:42.884469",
   "version": "2.3.4"
  }
 },
 "nbformat": 4,
 "nbformat_minor": 5
}
